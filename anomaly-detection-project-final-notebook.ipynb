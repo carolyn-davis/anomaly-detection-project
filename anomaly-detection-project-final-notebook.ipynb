{
 "cells": [
  {
   "cell_type": "markdown",
   "id": "bde2940a",
   "metadata": {},
   "source": [
    "# Anomaly Detection Project\n",
    "## By Carolyn Davis, Germain Cohort  \n",
    "### October 22, 2021"
   ]
  },
  {
   "cell_type": "markdown",
   "id": "8ef455bc",
   "metadata": {},
   "source": [
    "### Project Spec: \n",
    "Answer questions regarding potential anomalies in the curriculum_log data for Codeups past and present students.\n",
    "#### Questions:\n",
    "- 1. Which lesson appears to attract the most traffic consistently across cohorts (per program)?\n",
    "- 2. Is there a cohort that referred to a lesson significantly more than other cohorts seemed to gloss over?\n",
    "- 3. Are there students who, when active, hardly access the curriculum? If so, what information do you have about these students?\n",
    "- 4. What topics are grads continuing to reference after graduation and into their jobs (for each program)?\n",
    "- 5. Which lessons are least accessed?"
   ]
  },
  {
   "cell_type": "markdown",
   "id": "6c8e130b",
   "metadata": {},
   "source": [
    "### Imports Utilized:"
   ]
  },
  {
   "cell_type": "code",
   "execution_count": 1,
   "id": "3747237f",
   "metadata": {},
   "outputs": [],
   "source": [
    "#module for removing pesky warnings\n",
    "import warnings\n",
    "warnings.filterwarnings(\"ignore\")\n",
    "\n",
    "#module for data manipulation\n",
    "import pandas as pd\n",
    "\n",
    "#module for acquiring curriculum log data from SQL database\n",
    "import acquire as a \n",
    "\n",
    "#module for visualization of data\n",
    "import matplotlib.pyplot as plt "
   ]
  },
  {
   "cell_type": "markdown",
   "id": "ad6a9df9",
   "metadata": {},
   "source": [
    "### Acquire Phase:\n",
    "- Data is acquired from the curriculum_log database on SQL via Codeup permissions\n",
    "- Functions for acquiring this data are stored in git under the file name acquire.py"
   ]
  },
  {
   "cell_type": "code",
   "execution_count": 2,
   "id": "b61c6fc1",
   "metadata": {},
   "outputs": [],
   "source": [
    "df = a.get_curriculum_logs_data()"
   ]
  },
  {
   "cell_type": "markdown",
   "id": "b414af1d",
   "metadata": {},
   "source": [
    "#### Quick Look at the Data:"
   ]
  },
  {
   "cell_type": "code",
   "execution_count": 3,
   "id": "4088095f",
   "metadata": {},
   "outputs": [
    {
     "data": {
      "text/plain": [
       "(847330, 15)"
      ]
     },
     "execution_count": 3,
     "metadata": {},
     "output_type": "execute_result"
    }
   ],
   "source": [
    "df.shape"
   ]
  },
  {
   "cell_type": "code",
   "execution_count": 4,
   "id": "824f5a73",
   "metadata": {},
   "outputs": [
    {
     "name": "stdout",
     "output_type": "stream",
     "text": [
      "<class 'pandas.core.frame.DataFrame'>\n",
      "RangeIndex: 847330 entries, 0 to 847329\n",
      "Data columns (total 15 columns):\n",
      " #   Column      Non-Null Count   Dtype  \n",
      "---  ------      --------------   -----  \n",
      " 0   date        847330 non-null  object \n",
      " 1   time        847330 non-null  object \n",
      " 2   path        847329 non-null  object \n",
      " 3   user_id     847330 non-null  int64  \n",
      " 4   cohort_id   847330 non-null  float64\n",
      " 5   ip          847330 non-null  object \n",
      " 6   id          847330 non-null  int64  \n",
      " 7   name        847330 non-null  object \n",
      " 8   slack       847330 non-null  object \n",
      " 9   start_date  847330 non-null  object \n",
      " 10  end_date    847330 non-null  object \n",
      " 11  created_at  847330 non-null  object \n",
      " 12  updated_at  847330 non-null  object \n",
      " 13  deleted_at  0 non-null       float64\n",
      " 14  program_id  847330 non-null  int64  \n",
      "dtypes: float64(2), int64(3), object(10)\n",
      "memory usage: 97.0+ MB\n"
     ]
    }
   ],
   "source": [
    "df.info()"
   ]
  },
  {
   "cell_type": "code",
   "execution_count": 5,
   "id": "345572d7",
   "metadata": {},
   "outputs": [
    {
     "data": {
      "text/html": [
       "<div>\n",
       "<style scoped>\n",
       "    .dataframe tbody tr th:only-of-type {\n",
       "        vertical-align: middle;\n",
       "    }\n",
       "\n",
       "    .dataframe tbody tr th {\n",
       "        vertical-align: top;\n",
       "    }\n",
       "\n",
       "    .dataframe thead th {\n",
       "        text-align: right;\n",
       "    }\n",
       "</style>\n",
       "<table border=\"1\" class=\"dataframe\">\n",
       "  <thead>\n",
       "    <tr style=\"text-align: right;\">\n",
       "      <th></th>\n",
       "      <th>count</th>\n",
       "      <th>mean</th>\n",
       "      <th>std</th>\n",
       "      <th>min</th>\n",
       "      <th>25%</th>\n",
       "      <th>50%</th>\n",
       "      <th>75%</th>\n",
       "      <th>max</th>\n",
       "    </tr>\n",
       "  </thead>\n",
       "  <tbody>\n",
       "    <tr>\n",
       "      <th>user_id</th>\n",
       "      <td>847330.0</td>\n",
       "      <td>456.707344</td>\n",
       "      <td>250.734201</td>\n",
       "      <td>1.0</td>\n",
       "      <td>263.0</td>\n",
       "      <td>476.0</td>\n",
       "      <td>648.0</td>\n",
       "      <td>981.0</td>\n",
       "    </tr>\n",
       "    <tr>\n",
       "      <th>cohort_id</th>\n",
       "      <td>847330.0</td>\n",
       "      <td>48.501049</td>\n",
       "      <td>32.795482</td>\n",
       "      <td>1.0</td>\n",
       "      <td>28.0</td>\n",
       "      <td>33.0</td>\n",
       "      <td>57.0</td>\n",
       "      <td>139.0</td>\n",
       "    </tr>\n",
       "    <tr>\n",
       "      <th>id</th>\n",
       "      <td>847330.0</td>\n",
       "      <td>48.501049</td>\n",
       "      <td>32.795482</td>\n",
       "      <td>1.0</td>\n",
       "      <td>28.0</td>\n",
       "      <td>33.0</td>\n",
       "      <td>57.0</td>\n",
       "      <td>139.0</td>\n",
       "    </tr>\n",
       "    <tr>\n",
       "      <th>deleted_at</th>\n",
       "      <td>0.0</td>\n",
       "      <td>NaN</td>\n",
       "      <td>NaN</td>\n",
       "      <td>NaN</td>\n",
       "      <td>NaN</td>\n",
       "      <td>NaN</td>\n",
       "      <td>NaN</td>\n",
       "      <td>NaN</td>\n",
       "    </tr>\n",
       "    <tr>\n",
       "      <th>program_id</th>\n",
       "      <td>847330.0</td>\n",
       "      <td>2.086004</td>\n",
       "      <td>0.388231</td>\n",
       "      <td>1.0</td>\n",
       "      <td>2.0</td>\n",
       "      <td>2.0</td>\n",
       "      <td>2.0</td>\n",
       "      <td>4.0</td>\n",
       "    </tr>\n",
       "  </tbody>\n",
       "</table>\n",
       "</div>"
      ],
      "text/plain": [
       "               count        mean         std  min    25%    50%    75%    max\n",
       "user_id     847330.0  456.707344  250.734201  1.0  263.0  476.0  648.0  981.0\n",
       "cohort_id   847330.0   48.501049   32.795482  1.0   28.0   33.0   57.0  139.0\n",
       "id          847330.0   48.501049   32.795482  1.0   28.0   33.0   57.0  139.0\n",
       "deleted_at       0.0         NaN         NaN  NaN    NaN    NaN    NaN    NaN\n",
       "program_id  847330.0    2.086004    0.388231  1.0    2.0    2.0    2.0    4.0"
      ]
     },
     "execution_count": 5,
     "metadata": {},
     "output_type": "execute_result"
    }
   ],
   "source": [
    "df.describe().T"
   ]
  },
  {
   "cell_type": "markdown",
   "id": "1d8b6e83",
   "metadata": {},
   "source": [
    "#### Initial Thoughts/Observations:\n",
    "- Change columns: date, time, startdt, enddt to pd.datetime, however may not be necessary \n",
    "- Merge date and time cols and set as index\n",
    "- Path defines lesson, table of contents ('/').json, html data usage, drop anthing not lesson\n",
    "- Domain knowledge indicates ('/') is likely indicative of login page, not actual interaction with lessons\n",
    "- Domain analysis indicates cohort id and id are keys and mean the same thing according to SQL, dropping one\n",
    "- Ensure all numerics are conducive to methods to be performed on the data\n",
    "- Program id supports domain knowledge of program type 1:PHP, 2:Java, 3:Data Science, 4:Front/End, change program id \n",
    "    id values to reflect this for readibility\n",
    "- Peep name for label analysis in congruence with numeric data\n",
    "- Initial column drop: Slack column seems pointless..likely drop, along with creation and deleted_at cols\n",
    "- Start_date and end_date will likely tell the best story for anomalies implies activity outside normal population activity for students"
   ]
  },
  {
   "cell_type": "markdown",
   "id": "a22c44d3",
   "metadata": {},
   "source": [
    "### Preparation Phase:"
   ]
  },
  {
   "cell_type": "code",
   "execution_count": 6,
   "id": "4e92172e",
   "metadata": {},
   "outputs": [
    {
     "name": "stdout",
     "output_type": "stream",
     "text": [
      "<class 'pandas.core.frame.DataFrame'>\n",
      "RangeIndex: 847330 entries, 0 to 847329\n",
      "Data columns (total 11 columns):\n",
      " #   Column      Non-Null Count   Dtype  \n",
      "---  ------      --------------   -----  \n",
      " 0   date        847330 non-null  object \n",
      " 1   time        847330 non-null  object \n",
      " 2   path        847329 non-null  object \n",
      " 3   user_id     847330 non-null  int64  \n",
      " 4   cohort_id   847330 non-null  float64\n",
      " 5   ip          847330 non-null  object \n",
      " 6   name        847330 non-null  object \n",
      " 7   start_date  847330 non-null  object \n",
      " 8   end_date    847330 non-null  object \n",
      " 9   updated_at  847330 non-null  object \n",
      " 10  program_id  847330 non-null  int64  \n",
      "dtypes: float64(1), int64(2), object(8)\n",
      "memory usage: 71.1+ MB\n"
     ]
    }
   ],
   "source": [
    "#First dropping the columns that after initial exploration seem irrelevant for project spec\n",
    "\n",
    "#assign columns that will be deleted to variable\n",
    "initial_drop = ['id', 'created_at', 'deleted_at', 'slack']\n",
    "\n",
    "#drop the columns assigned to the above variable\n",
    "df = df.drop(columns=(initial_drop))\n",
    "\n",
    "#visualize and check that changes were successful\n",
    "df.info()"
   ]
  },
  {
   "cell_type": "markdown",
   "id": "b067e23e",
   "metadata": {},
   "source": [
    "#### Convert program_id column to labeled programs in str format:"
   ]
  },
  {
   "cell_type": "code",
   "execution_count": 8,
   "id": "c46dfaa8",
   "metadata": {},
   "outputs": [
    {
     "data": {
      "text/html": [
       "<div>\n",
       "<style scoped>\n",
       "    .dataframe tbody tr th:only-of-type {\n",
       "        vertical-align: middle;\n",
       "    }\n",
       "\n",
       "    .dataframe tbody tr th {\n",
       "        vertical-align: top;\n",
       "    }\n",
       "\n",
       "    .dataframe thead th {\n",
       "        text-align: right;\n",
       "    }\n",
       "</style>\n",
       "<table border=\"1\" class=\"dataframe\">\n",
       "  <thead>\n",
       "    <tr style=\"text-align: right;\">\n",
       "      <th></th>\n",
       "      <th>date</th>\n",
       "      <th>time</th>\n",
       "      <th>path</th>\n",
       "      <th>user_id</th>\n",
       "      <th>cohort_id</th>\n",
       "      <th>ip</th>\n",
       "      <th>name</th>\n",
       "      <th>start_date</th>\n",
       "      <th>end_date</th>\n",
       "      <th>updated_at</th>\n",
       "      <th>program_id</th>\n",
       "    </tr>\n",
       "  </thead>\n",
       "  <tbody>\n",
       "    <tr>\n",
       "      <th>0</th>\n",
       "      <td>2018-01-26</td>\n",
       "      <td>09:55:03</td>\n",
       "      <td>/</td>\n",
       "      <td>1</td>\n",
       "      <td>8.0</td>\n",
       "      <td>97.105.19.61</td>\n",
       "      <td>Hampton</td>\n",
       "      <td>2015-09-22</td>\n",
       "      <td>2016-02-06</td>\n",
       "      <td>2016-06-14 19:52:26</td>\n",
       "      <td>php</td>\n",
       "    </tr>\n",
       "    <tr>\n",
       "      <th>1</th>\n",
       "      <td>2018-01-26</td>\n",
       "      <td>09:56:02</td>\n",
       "      <td>java-ii</td>\n",
       "      <td>1</td>\n",
       "      <td>8.0</td>\n",
       "      <td>97.105.19.61</td>\n",
       "      <td>Hampton</td>\n",
       "      <td>2015-09-22</td>\n",
       "      <td>2016-02-06</td>\n",
       "      <td>2016-06-14 19:52:26</td>\n",
       "      <td>php</td>\n",
       "    </tr>\n",
       "    <tr>\n",
       "      <th>2</th>\n",
       "      <td>2018-01-26</td>\n",
       "      <td>09:56:05</td>\n",
       "      <td>java-ii/object-oriented-programming</td>\n",
       "      <td>1</td>\n",
       "      <td>8.0</td>\n",
       "      <td>97.105.19.61</td>\n",
       "      <td>Hampton</td>\n",
       "      <td>2015-09-22</td>\n",
       "      <td>2016-02-06</td>\n",
       "      <td>2016-06-14 19:52:26</td>\n",
       "      <td>php</td>\n",
       "    </tr>\n",
       "    <tr>\n",
       "      <th>3</th>\n",
       "      <td>2018-01-26</td>\n",
       "      <td>09:56:06</td>\n",
       "      <td>slides/object_oriented_programming</td>\n",
       "      <td>1</td>\n",
       "      <td>8.0</td>\n",
       "      <td>97.105.19.61</td>\n",
       "      <td>Hampton</td>\n",
       "      <td>2015-09-22</td>\n",
       "      <td>2016-02-06</td>\n",
       "      <td>2016-06-14 19:52:26</td>\n",
       "      <td>php</td>\n",
       "    </tr>\n",
       "    <tr>\n",
       "      <th>4</th>\n",
       "      <td>2018-01-26</td>\n",
       "      <td>09:56:24</td>\n",
       "      <td>javascript-i/conditionals</td>\n",
       "      <td>2</td>\n",
       "      <td>22.0</td>\n",
       "      <td>97.105.19.61</td>\n",
       "      <td>Teddy</td>\n",
       "      <td>2018-01-08</td>\n",
       "      <td>2018-05-17</td>\n",
       "      <td>2018-01-08 13:59:10</td>\n",
       "      <td>java</td>\n",
       "    </tr>\n",
       "  </tbody>\n",
       "</table>\n",
       "</div>"
      ],
      "text/plain": [
       "         date      time                                 path  user_id  \\\n",
       "0  2018-01-26  09:55:03                                    /        1   \n",
       "1  2018-01-26  09:56:02                              java-ii        1   \n",
       "2  2018-01-26  09:56:05  java-ii/object-oriented-programming        1   \n",
       "3  2018-01-26  09:56:06   slides/object_oriented_programming        1   \n",
       "4  2018-01-26  09:56:24            javascript-i/conditionals        2   \n",
       "\n",
       "   cohort_id            ip     name  start_date    end_date  \\\n",
       "0        8.0  97.105.19.61  Hampton  2015-09-22  2016-02-06   \n",
       "1        8.0  97.105.19.61  Hampton  2015-09-22  2016-02-06   \n",
       "2        8.0  97.105.19.61  Hampton  2015-09-22  2016-02-06   \n",
       "3        8.0  97.105.19.61  Hampton  2015-09-22  2016-02-06   \n",
       "4       22.0  97.105.19.61    Teddy  2018-01-08  2018-05-17   \n",
       "\n",
       "            updated_at program_id  \n",
       "0  2016-06-14 19:52:26        php  \n",
       "1  2016-06-14 19:52:26        php  \n",
       "2  2016-06-14 19:52:26        php  \n",
       "3  2016-06-14 19:52:26        php  \n",
       "4  2018-01-08 13:59:10       java  "
      ]
     },
     "execution_count": 8,
     "metadata": {},
     "output_type": "execute_result"
    }
   ],
   "source": [
    "#converting the program_id column from a int to a str \n",
    "df['program_id'] = df['program_id'].astype(str)\n",
    "\n",
    "#making four new columns for each program id and converting integers to strings that are easy to identify\n",
    "df['program_id'] = df['program_id'].str.replace('1', 'php').str.replace('2', 'java').str.replace('3', 'ds').str.replace('4', 'fe')\n",
    "\n",
    "#check df to ensure changes were successful\n",
    "df.head()"
   ]
  },
  {
   "cell_type": "markdown",
   "id": "fd67893f",
   "metadata": {},
   "source": [
    "### Tackling Questions of Interest:"
   ]
  },
  {
   "cell_type": "markdown",
   "id": "09c26d96",
   "metadata": {},
   "source": [
    "#### - Question 1: Which lesson appears to attract the most traffic consistently across cohorts (per program)?"
   ]
  },
  {
   "cell_type": "markdown",
   "id": "6be6e53f",
   "metadata": {},
   "source": [
    "#### Plan:\n",
    "- Need a copy of the original df for comparison\n",
    "- Assuming rows in the path column of the df with the value '/' are not indicative of lesson activity while students are accessing the curriculum \n",
    "- ('/')'s will not be included in the analysis of student-lesson traffic"
   ]
  },
  {
   "cell_type": "code",
   "execution_count": 9,
   "id": "014adec9",
   "metadata": {},
   "outputs": [],
   "source": [
    "q1_df = df.copy()"
   ]
  },
  {
   "cell_type": "code",
   "execution_count": 11,
   "id": "be8e83a9",
   "metadata": {},
   "outputs": [
    {
     "data": {
      "text/plain": [
       "javascript-i                18203\n",
       "toc                         17591\n",
       "search/search_index.json    17534\n",
       "Name: path, dtype: int64"
      ]
     },
     "execution_count": 11,
     "metadata": {},
     "output_type": "execute_result"
    }
   ],
   "source": [
    "#eliminates instances of user activity where curriculum is not accessed\n",
    "q1_df = q1_df[q1_df['path'].str.len() > 2]\n",
    "\n",
    "#assigning lesson groupings for student activity to the variable counts for number of students accessing curriculum \n",
    "counts = q1_df['path'].value_counts()\n",
    "\n",
    "#looking at the value_counts for each lesson most frequently visited by students\n",
    "counts.head(3)"
   ]
  },
  {
   "cell_type": "code",
   "execution_count": 12,
   "id": "daf2eee8",
   "metadata": {},
   "outputs": [
    {
     "data": {
      "text/plain": [
       "<AxesSubplot:>"
      ]
     },
     "execution_count": 12,
     "metadata": {},
     "output_type": "execute_result"
    },
    {
     "data": {
      "image/png": "[encoded data removed]",
      "text/plain": [
       "<Figure size 432x288 with 1 Axes>"
      ]
     },
     "metadata": {
      "needs_background": "light"
     },
     "output_type": "display_data"
    }
   ],
   "source": [
    "#Visualize the Counts in the Bar Chart\n",
    "counts.head(10).plot.bar()"
   ]
  },
  {
   "cell_type": "markdown",
   "id": "ddae8341",
   "metadata": {},
   "source": [
    "#### Observations/Takeaways:\n",
    "- The lesson 'javascript-i' appears to be the most frequently trafficked site across all programs in the Codeup curriculum log database\n",
    "- Following the most visited, the lessons known as 'TOC' and 'search/search_index.json' are the two runner-ups for most frequently trafficked sites.\n",
    "\n",
    "##### Additional Thought:\n",
    "- Based off analysis of the domain, it is my theory that .json maybe indicative of web-scraping activity. If I have sufficient time, this theory will be explored further."
   ]
  },
  {
   "cell_type": "markdown",
   "id": "91fa18e9",
   "metadata": {},
   "source": [
    "### Question 2: Is there a cohort that referred to a lesson significantly more than other cohorts seemed to gloss over?"
   ]
  },
  {
   "cell_type": "markdown",
   "id": "304b9bef",
   "metadata": {},
   "source": [
    "#### Plan:\n",
    "- Analyze lesson activity across all cohorts, by finding the max value_counts for each lesson across the cohorts\n",
    "- Set the index to cohort id, to maintain axis\n",
    "- Identify lesson and cohort that trafficked specific lesson, significantly more than others"
   ]
  },
  {
   "cell_type": "code",
   "execution_count": 13,
   "id": "f3c785d7",
   "metadata": {},
   "outputs": [
    {
     "data": {
      "text/plain": [
       "path                              cohort_id\n",
       "%20https://github.com/RaulCPena   55.0         1\n",
       ",%20https://github.com/RaulCPena  55.0         1\n",
       ".git                              24.0         1\n",
       ".gitignore                        24.0         1\n",
       "                                  59.0         1\n",
       "Name: cohort_id, dtype: int64"
      ]
     },
     "execution_count": 13,
     "metadata": {},
     "output_type": "execute_result"
    }
   ],
   "source": [
    "#looking at the value counts by cohort and path activity across cohorts\n",
    "q2_grouping = q1_df.groupby('path')['cohort_id'].value_counts()\n",
    "q2_grouping.head()"
   ]
  },
  {
   "cell_type": "code",
   "execution_count": 18,
   "id": "42f13aa1",
   "metadata": {},
   "outputs": [
    {
     "name": "stdout",
     "output_type": "stream",
     "text": [
      "path                              cohort_id\n",
      "%20https://github.com/RaulCPena   55.0         1\n",
      ",%20https://github.com/RaulCPena  55.0         1\n",
      ".git                              24.0         1\n",
      ".gitignore                        24.0         1\n",
      "                                  59.0         1\n",
      "Name: counts, dtype: int64\n"
     ]
    }
   ],
   "source": [
    "#renaming second path column (not shown above) to 'counts'\n",
    "q2_grouping = q2_grouping.rename('counts')\n",
    "\n",
    "#check it out\n",
    "print(q2_grouping.head().T)"
   ]
  },
  {
   "cell_type": "code",
   "execution_count": 20,
   "id": "3a54710b",
   "metadata": {},
   "outputs": [
    {
     "data": {
      "text/html": [
       "<div>\n",
       "<style scoped>\n",
       "    .dataframe tbody tr th:only-of-type {\n",
       "        vertical-align: middle;\n",
       "    }\n",
       "\n",
       "    .dataframe tbody tr th {\n",
       "        vertical-align: top;\n",
       "    }\n",
       "\n",
       "    .dataframe thead th {\n",
       "        text-align: right;\n",
       "    }\n",
       "</style>\n",
       "<table border=\"1\" class=\"dataframe\">\n",
       "  <thead>\n",
       "    <tr style=\"text-align: right;\">\n",
       "      <th></th>\n",
       "      <th>path</th>\n",
       "      <th>counts</th>\n",
       "    </tr>\n",
       "    <tr>\n",
       "      <th>cohort_id</th>\n",
       "      <th></th>\n",
       "      <th></th>\n",
       "    </tr>\n",
       "  </thead>\n",
       "  <tbody>\n",
       "    <tr>\n",
       "      <th>62.0</th>\n",
       "      <td>toc</td>\n",
       "      <td>1866</td>\n",
       "    </tr>\n",
       "    <tr>\n",
       "      <th>28.0</th>\n",
       "      <td>javascript-i</td>\n",
       "      <td>1817</td>\n",
       "    </tr>\n",
       "    <tr>\n",
       "      <th>56.0</th>\n",
       "      <td>search/search_index.json</td>\n",
       "      <td>1497</td>\n",
       "    </tr>\n",
       "    <tr>\n",
       "      <th>29.0</th>\n",
       "      <td>toc</td>\n",
       "      <td>1465</td>\n",
       "    </tr>\n",
       "    <tr>\n",
       "      <th>28.0</th>\n",
       "      <td>spring</td>\n",
       "      <td>1403</td>\n",
       "    </tr>\n",
       "  </tbody>\n",
       "</table>\n",
       "</div>"
      ],
      "text/plain": [
       "                               path  counts\n",
       "cohort_id                                  \n",
       "62.0                            toc    1866\n",
       "28.0                   javascript-i    1817\n",
       "56.0       search/search_index.json    1497\n",
       "29.0                            toc    1465\n",
       "28.0                         spring    1403"
      ]
     },
     "execution_count": 20,
     "metadata": {},
     "output_type": "execute_result"
    }
   ],
   "source": [
    "#reset the index so we can set it in the next step\n",
    "q2_grouping = q2_grouping.reset_index()\n",
    "\n",
    "#set the index to cohort_id to get lesson traffic for each cohort\n",
    "q2_grouping = q2_grouping.set_index('cohort_id')\n",
    "\n",
    "#Sort values for max counts sorts descending\n",
    "q2_grouping = q2_grouping.sort_values(by='counts', ascending=False)\n",
    "\n",
    "#Visualize Cohort grouping based off most traffic lesson counts\n",
    "q2_grouping.head()"
   ]
  },
  {
   "cell_type": "markdown",
   "id": "7e0d3b09",
   "metadata": {},
   "source": [
    "#### It appears we have some top contenders, with TOC being the most visited lesson path by cohort_id 62.0, followed by some closed contenders for other frequently visited lesson paths. Push forward with visualizing."
   ]
  },
  {
   "cell_type": "code",
   "execution_count": 21,
   "id": "ffdf5c4f",
   "metadata": {},
   "outputs": [
    {
     "data": {
      "text/plain": [
       "<AxesSubplot:xlabel='cohort_id'>"
      ]
     },
     "execution_count": 21,
     "metadata": {},
     "output_type": "execute_result"
    },
    {
     "data": {
      "image/png": "[encoded data removed]",
      "text/plain": [
       "<Figure size 432x288 with 1 Axes>"
      ]
     },
     "metadata": {
      "needs_background": "light"
     },
     "output_type": "display_data"
    }
   ],
   "source": [
    "#filtering grouping to just look at top cohort activity for just the lesson path 'toc'\n",
    "q2_grouping = q2_grouping[q2_grouping['path'] == 'toc']\n",
    "\n",
    "#visualizing cohort activity for the toc lesson path across all cohorts\n",
    "q2_grouping.head(10).plot.bar()"
   ]
  },
  {
   "cell_type": "markdown",
   "id": "eb51b773",
   "metadata": {},
   "source": [
    "### Takeaways:\n",
    "- With reference to the cohorts.csv provided in this project's relevant git repo, it is apparent that cohort_id 62.0, also known as the Jupiter cohort visited the lesson 'toc' significantly more than any other cohort and any other lesson overall for all students accessing these curriculum logs.\n",
    "- With reference to the visualiztion for 'TOC' lesson access for all cohorts, the cohort_id 29.0 is identified as staff logs for this particular lesson. This is to be suspected, given need for continous access to the curriculum.\n",
    "- With more time, it would interesting to explore more why, cohort Jupiter accessed this lesson more than any other lesson, more than even the staff across all historical cohorts. "
   ]
  },
  {
   "cell_type": "markdown",
   "id": "e74ac4ab",
   "metadata": {},
   "source": [
    "### Question 3: Are there students who, when active, hardly access the curriculum? If so, what information do you have about these students?"
   ]
  },
  {
   "cell_type": "markdown",
   "id": "ccc24edf",
   "metadata": {},
   "source": [
    "#### Plan:\n",
    "- It has been established based off the research done prior on the data for this domain, that the value ('/') found in the path column will be treated as logged on but not presently accessing the curriculum.\n",
    "- This logic is based off the lack of file path values following instances of this value in the path column.\n",
    "- The instances of no activity by students will then be compared to overall activity for each student.\n",
    "- The number of counts of inactivity will be divide by overall lesson activity to achieve the activity ratio.\n",
    "- The higher the ratio, the higher the liklihood, that the student is logged on but not actually the lesson curriculum"
   ]
  },
  {
   "cell_type": "code",
   "execution_count": 22,
   "id": "394a9e18",
   "metadata": {},
   "outputs": [
    {
     "data": {
      "text/html": [
       "<div>\n",
       "<style scoped>\n",
       "    .dataframe tbody tr th:only-of-type {\n",
       "        vertical-align: middle;\n",
       "    }\n",
       "\n",
       "    .dataframe tbody tr th {\n",
       "        vertical-align: top;\n",
       "    }\n",
       "\n",
       "    .dataframe thead th {\n",
       "        text-align: right;\n",
       "    }\n",
       "</style>\n",
       "<table border=\"1\" class=\"dataframe\">\n",
       "  <thead>\n",
       "    <tr style=\"text-align: right;\">\n",
       "      <th></th>\n",
       "      <th>date</th>\n",
       "      <th>time</th>\n",
       "      <th>path</th>\n",
       "      <th>user_id</th>\n",
       "      <th>cohort_id</th>\n",
       "      <th>ip</th>\n",
       "      <th>name</th>\n",
       "      <th>start_date</th>\n",
       "      <th>end_date</th>\n",
       "      <th>updated_at</th>\n",
       "      <th>program_id</th>\n",
       "    </tr>\n",
       "  </thead>\n",
       "  <tbody>\n",
       "    <tr>\n",
       "      <th>0</th>\n",
       "      <td>2018-01-26</td>\n",
       "      <td>09:55:03</td>\n",
       "      <td>/</td>\n",
       "      <td>1</td>\n",
       "      <td>8.0</td>\n",
       "      <td>97.105.19.61</td>\n",
       "      <td>Hampton</td>\n",
       "      <td>2015-09-22</td>\n",
       "      <td>2016-02-06</td>\n",
       "      <td>2016-06-14 19:52:26</td>\n",
       "      <td>php</td>\n",
       "    </tr>\n",
       "    <tr>\n",
       "      <th>12</th>\n",
       "      <td>2018-01-26</td>\n",
       "      <td>10:00:37</td>\n",
       "      <td>/</td>\n",
       "      <td>6</td>\n",
       "      <td>22.0</td>\n",
       "      <td>97.105.19.61</td>\n",
       "      <td>Teddy</td>\n",
       "      <td>2018-01-08</td>\n",
       "      <td>2018-05-17</td>\n",
       "      <td>2018-01-08 13:59:10</td>\n",
       "      <td>java</td>\n",
       "    </tr>\n",
       "    <tr>\n",
       "      <th>30</th>\n",
       "      <td>2018-01-26</td>\n",
       "      <td>10:14:47</td>\n",
       "      <td>/</td>\n",
       "      <td>11</td>\n",
       "      <td>1.0</td>\n",
       "      <td>97.105.19.61</td>\n",
       "      <td>Arches</td>\n",
       "      <td>2014-02-04</td>\n",
       "      <td>2014-04-22</td>\n",
       "      <td>2016-06-14 19:52:26</td>\n",
       "      <td>php</td>\n",
       "    </tr>\n",
       "    <tr>\n",
       "      <th>32</th>\n",
       "      <td>2018-01-26</td>\n",
       "      <td>10:14:53</td>\n",
       "      <td>/</td>\n",
       "      <td>6</td>\n",
       "      <td>22.0</td>\n",
       "      <td>97.105.19.61</td>\n",
       "      <td>Teddy</td>\n",
       "      <td>2018-01-08</td>\n",
       "      <td>2018-05-17</td>\n",
       "      <td>2018-01-08 13:59:10</td>\n",
       "      <td>java</td>\n",
       "    </tr>\n",
       "    <tr>\n",
       "      <th>39</th>\n",
       "      <td>2018-01-26</td>\n",
       "      <td>10:18:22</td>\n",
       "      <td>/</td>\n",
       "      <td>10</td>\n",
       "      <td>21.0</td>\n",
       "      <td>97.105.19.61</td>\n",
       "      <td>Sequoia</td>\n",
       "      <td>2017-09-27</td>\n",
       "      <td>2018-02-15</td>\n",
       "      <td>2017-09-27 20:22:41</td>\n",
       "      <td>java</td>\n",
       "    </tr>\n",
       "  </tbody>\n",
       "</table>\n",
       "</div>"
      ],
      "text/plain": [
       "          date      time path  user_id  cohort_id            ip     name  \\\n",
       "0   2018-01-26  09:55:03    /        1        8.0  97.105.19.61  Hampton   \n",
       "12  2018-01-26  10:00:37    /        6       22.0  97.105.19.61    Teddy   \n",
       "30  2018-01-26  10:14:47    /       11        1.0  97.105.19.61   Arches   \n",
       "32  2018-01-26  10:14:53    /        6       22.0  97.105.19.61    Teddy   \n",
       "39  2018-01-26  10:18:22    /       10       21.0  97.105.19.61  Sequoia   \n",
       "\n",
       "    start_date    end_date           updated_at program_id  \n",
       "0   2015-09-22  2016-02-06  2016-06-14 19:52:26        php  \n",
       "12  2018-01-08  2018-05-17  2018-01-08 13:59:10       java  \n",
       "30  2014-02-04  2014-04-22  2016-06-14 19:52:26        php  \n",
       "32  2018-01-08  2018-05-17  2018-01-08 13:59:10       java  \n",
       "39  2017-09-27  2018-02-15  2017-09-27 20:22:41       java  "
      ]
     },
     "execution_count": 22,
     "metadata": {},
     "output_type": "execute_result"
    }
   ],
   "source": [
    "#if the len is less than two, than the path is not a lesson accessed by the student\n",
    "q3_slashes = df[df['path'].str.len() < 2]\n",
    "\n",
    "#looking at the value_counts for each existence of slash presence in the path column\n",
    "q3_slashes['path'].value_counts()\n",
    "\n",
    "#checking that the path column only possess slashes indicating instances of inactivity for lesson access\n",
    "q3_slashes.head()"
   ]
  },
  {
   "cell_type": "code",
   "execution_count": 23,
   "id": "5e4d5d62",
   "metadata": {},
   "outputs": [],
   "source": [
    "#assigns variable to rows containing slash in the column 'path' for use\n",
    "q3_slashes = q3_slashes[q3_slashes['path'] == '/']\n"
   ]
  },
  {
   "cell_type": "code",
   "execution_count": 24,
   "id": "b347bfba",
   "metadata": {},
   "outputs": [],
   "source": [
    "#any rows in the path column with a length greater than two will be considered lessons\n",
    "q3_unslashes = df[df['path'].str.len() > 2]"
   ]
  },
  {
   "cell_type": "code",
   "execution_count": 25,
   "id": "3c827e74",
   "metadata": {},
   "outputs": [
    {
     "data": {
      "text/plain": [
       "path  ip             \n",
       "/     97.105.19.58       10912\n",
       "      97.105.19.61        2875\n",
       "      71.150.217.33        448\n",
       "      192.171.117.210      446\n",
       "      76.185.145.231       407\n",
       "Name: counts, dtype: int64"
      ]
     },
     "execution_count": 25,
     "metadata": {},
     "output_type": "execute_result"
    }
   ],
   "source": [
    "#visualize the groupings for students not actually accessing curriculum\n",
    "q3_grouping = q3_slashes.groupby('path')['ip'].value_counts()\n",
    "\n",
    "#renaming the new column states as ip to counts for further analysis\n",
    "q3_grouping = q3_grouping.rename('counts')\n",
    "\n",
    "#check out the slash groupings\n",
    "q3_grouping.head()"
   ]
  },
  {
   "cell_type": "code",
   "execution_count": 26,
   "id": "d7a5e63c",
   "metadata": {},
   "outputs": [
    {
     "data": {
      "text/html": [
       "<div>\n",
       "<style scoped>\n",
       "    .dataframe tbody tr th:only-of-type {\n",
       "        vertical-align: middle;\n",
       "    }\n",
       "\n",
       "    .dataframe tbody tr th {\n",
       "        vertical-align: top;\n",
       "    }\n",
       "\n",
       "    .dataframe thead th {\n",
       "        text-align: right;\n",
       "    }\n",
       "</style>\n",
       "<table border=\"1\" class=\"dataframe\">\n",
       "  <thead>\n",
       "    <tr style=\"text-align: right;\">\n",
       "      <th></th>\n",
       "      <th>counts</th>\n",
       "    </tr>\n",
       "    <tr>\n",
       "      <th>ip</th>\n",
       "      <th></th>\n",
       "    </tr>\n",
       "  </thead>\n",
       "  <tbody>\n",
       "    <tr>\n",
       "      <th>97.105.19.58</th>\n",
       "      <td>10912</td>\n",
       "    </tr>\n",
       "    <tr>\n",
       "      <th>97.105.19.61</th>\n",
       "      <td>2875</td>\n",
       "    </tr>\n",
       "    <tr>\n",
       "      <th>71.150.217.33</th>\n",
       "      <td>448</td>\n",
       "    </tr>\n",
       "    <tr>\n",
       "      <th>192.171.117.210</th>\n",
       "      <td>446</td>\n",
       "    </tr>\n",
       "    <tr>\n",
       "      <th>76.185.145.231</th>\n",
       "      <td>407</td>\n",
       "    </tr>\n",
       "  </tbody>\n",
       "</table>\n",
       "</div>"
      ],
      "text/plain": [
       "                 counts\n",
       "ip                     \n",
       "97.105.19.58      10912\n",
       "97.105.19.61       2875\n",
       "71.150.217.33       448\n",
       "192.171.117.210     446\n",
       "76.185.145.231      407"
      ]
     },
     "execution_count": 26,
     "metadata": {},
     "output_type": "execute_result"
    }
   ],
   "source": [
    "#reset the index so we can set the index\n",
    "q3_grouping = q3_grouping.reset_index()\n",
    "\n",
    "#set index to unique identifier for each student 'ip'\n",
    "q3_grouping = q3_grouping.set_index('ip')\n",
    "\n",
    "#drop col path it is no longer relevant\n",
    "q3_grouping = q3_grouping.drop(columns=['path'], axis=1)\n",
    "\n",
    "#check it out\n",
    "q3_grouping.head()"
   ]
  },
  {
   "cell_type": "markdown",
   "id": "2a828183",
   "metadata": {},
   "source": [
    "#### Quick Takeaway:\n",
    "- It appears the top student with the ip address ending in '58' is accessing the the Codeup curriculum login page a lot.\n",
    "- This could be suspicious, this can be cleared up by checking out this students activity with the curriculum's lessons. An anomaly may be presented if the lesson activity is significantly less than login page activity as defined with with ('/')'s seen in the path column. Moving forward..."
   ]
  },
  {
   "cell_type": "code",
   "execution_count": 27,
   "id": "0b145dac",
   "metadata": {},
   "outputs": [],
   "source": [
    "#assigning all activity that is not a slash to its own col for overall activity comparison for the student\n",
    "q3_div = q3_unslashes['ip'].value_counts()\n",
    "\n",
    "#renaming value_counts to div for divide marker of overall lesson activity for student\n",
    "q3_div = q3_div.rename('div')"
   ]
  },
  {
   "cell_type": "code",
   "execution_count": 28,
   "id": "2bafe55b",
   "metadata": {},
   "outputs": [
    {
     "data": {
      "text/html": [
       "<div>\n",
       "<style scoped>\n",
       "    .dataframe tbody tr th:only-of-type {\n",
       "        vertical-align: middle;\n",
       "    }\n",
       "\n",
       "    .dataframe tbody tr th {\n",
       "        vertical-align: top;\n",
       "    }\n",
       "\n",
       "    .dataframe thead th {\n",
       "        text-align: right;\n",
       "    }\n",
       "</style>\n",
       "<table border=\"1\" class=\"dataframe\">\n",
       "  <thead>\n",
       "    <tr style=\"text-align: right;\">\n",
       "      <th></th>\n",
       "      <th>counts</th>\n",
       "      <th>div</th>\n",
       "    </tr>\n",
       "  </thead>\n",
       "  <tbody>\n",
       "    <tr>\n",
       "      <th>97.105.19.58</th>\n",
       "      <td>10912.0</td>\n",
       "      <td>257736.0</td>\n",
       "    </tr>\n",
       "    <tr>\n",
       "      <th>97.105.19.61</th>\n",
       "      <td>2875.0</td>\n",
       "      <td>57655.0</td>\n",
       "    </tr>\n",
       "    <tr>\n",
       "      <th>71.150.217.33</th>\n",
       "      <td>448.0</td>\n",
       "      <td>6342.0</td>\n",
       "    </tr>\n",
       "    <tr>\n",
       "      <th>192.171.117.210</th>\n",
       "      <td>446.0</td>\n",
       "      <td>8678.0</td>\n",
       "    </tr>\n",
       "    <tr>\n",
       "      <th>76.185.145.231</th>\n",
       "      <td>407.0</td>\n",
       "      <td>4347.0</td>\n",
       "    </tr>\n",
       "  </tbody>\n",
       "</table>\n",
       "</div>"
      ],
      "text/plain": [
       "                  counts       div\n",
       "97.105.19.58     10912.0  257736.0\n",
       "97.105.19.61      2875.0   57655.0\n",
       "71.150.217.33      448.0    6342.0\n",
       "192.171.117.210    446.0    8678.0\n",
       "76.185.145.231     407.0    4347.0"
      ]
     },
     "execution_count": 28,
     "metadata": {},
     "output_type": "execute_result"
    }
   ],
   "source": [
    "#concat the two new value count columns into one df, maintianing index integrity for exploring\n",
    "q3_all = pd.concat([q3_grouping, q3_div], axis=1)\n",
    "q3_all.head()"
   ]
  },
  {
   "cell_type": "code",
   "execution_count": 29,
   "id": "d7320231",
   "metadata": {},
   "outputs": [
    {
     "data": {
      "text/html": [
       "<div>\n",
       "<style scoped>\n",
       "    .dataframe tbody tr th:only-of-type {\n",
       "        vertical-align: middle;\n",
       "    }\n",
       "\n",
       "    .dataframe tbody tr th {\n",
       "        vertical-align: top;\n",
       "    }\n",
       "\n",
       "    .dataframe thead th {\n",
       "        text-align: right;\n",
       "    }\n",
       "</style>\n",
       "<table border=\"1\" class=\"dataframe\">\n",
       "  <thead>\n",
       "    <tr style=\"text-align: right;\">\n",
       "      <th></th>\n",
       "      <th>counts</th>\n",
       "      <th>div</th>\n",
       "      <th>activity</th>\n",
       "    </tr>\n",
       "  </thead>\n",
       "  <tbody>\n",
       "    <tr>\n",
       "      <th>97.105.19.58</th>\n",
       "      <td>10912.0</td>\n",
       "      <td>257736.0</td>\n",
       "      <td>0.042338</td>\n",
       "    </tr>\n",
       "    <tr>\n",
       "      <th>97.105.19.61</th>\n",
       "      <td>2875.0</td>\n",
       "      <td>57655.0</td>\n",
       "      <td>0.049866</td>\n",
       "    </tr>\n",
       "    <tr>\n",
       "      <th>71.150.217.33</th>\n",
       "      <td>448.0</td>\n",
       "      <td>6342.0</td>\n",
       "      <td>0.070640</td>\n",
       "    </tr>\n",
       "    <tr>\n",
       "      <th>192.171.117.210</th>\n",
       "      <td>446.0</td>\n",
       "      <td>8678.0</td>\n",
       "      <td>0.051394</td>\n",
       "    </tr>\n",
       "    <tr>\n",
       "      <th>76.185.145.231</th>\n",
       "      <td>407.0</td>\n",
       "      <td>4347.0</td>\n",
       "      <td>0.093628</td>\n",
       "    </tr>\n",
       "    <tr>\n",
       "      <th>...</th>\n",
       "      <td>...</td>\n",
       "      <td>...</td>\n",
       "      <td>...</td>\n",
       "    </tr>\n",
       "    <tr>\n",
       "      <th>172.58.107.192</th>\n",
       "      <td>NaN</td>\n",
       "      <td>1.0</td>\n",
       "      <td>NaN</td>\n",
       "    </tr>\n",
       "    <tr>\n",
       "      <th>50.24.136.80</th>\n",
       "      <td>NaN</td>\n",
       "      <td>1.0</td>\n",
       "      <td>NaN</td>\n",
       "    </tr>\n",
       "    <tr>\n",
       "      <th>99.203.90.177</th>\n",
       "      <td>NaN</td>\n",
       "      <td>1.0</td>\n",
       "      <td>NaN</td>\n",
       "    </tr>\n",
       "    <tr>\n",
       "      <th>166.251.109.47</th>\n",
       "      <td>NaN</td>\n",
       "      <td>1.0</td>\n",
       "      <td>NaN</td>\n",
       "    </tr>\n",
       "    <tr>\n",
       "      <th>99.203.26.251</th>\n",
       "      <td>NaN</td>\n",
       "      <td>1.0</td>\n",
       "      <td>NaN</td>\n",
       "    </tr>\n",
       "  </tbody>\n",
       "</table>\n",
       "<p>5200 rows × 3 columns</p>\n",
       "</div>"
      ],
      "text/plain": [
       "                  counts       div  activity\n",
       "97.105.19.58     10912.0  257736.0  0.042338\n",
       "97.105.19.61      2875.0   57655.0  0.049866\n",
       "71.150.217.33      448.0    6342.0  0.070640\n",
       "192.171.117.210    446.0    8678.0  0.051394\n",
       "76.185.145.231     407.0    4347.0  0.093628\n",
       "...                  ...       ...       ...\n",
       "172.58.107.192       NaN       1.0       NaN\n",
       "50.24.136.80         NaN       1.0       NaN\n",
       "99.203.90.177        NaN       1.0       NaN\n",
       "166.251.109.47       NaN       1.0       NaN\n",
       "99.203.26.251        NaN       1.0       NaN\n",
       "\n",
       "[5200 rows x 3 columns]"
      ]
     },
     "execution_count": 29,
     "metadata": {},
     "output_type": "execute_result"
    }
   ],
   "source": [
    "#make new col for activity ration based off homepage activity(no lessons) \n",
    "# in comparison to all curriculum access based off student ip\n",
    "q3_all['activity'] = q3_all['counts'] / q3_all['div']\n",
    "q3_all\n"
   ]
  },
  {
   "cell_type": "code",
   "execution_count": 30,
   "id": "77ce9b98",
   "metadata": {},
   "outputs": [
    {
     "data": {
      "text/html": [
       "<div>\n",
       "<style scoped>\n",
       "    .dataframe tbody tr th:only-of-type {\n",
       "        vertical-align: middle;\n",
       "    }\n",
       "\n",
       "    .dataframe tbody tr th {\n",
       "        vertical-align: top;\n",
       "    }\n",
       "\n",
       "    .dataframe thead th {\n",
       "        text-align: right;\n",
       "    }\n",
       "</style>\n",
       "<table border=\"1\" class=\"dataframe\">\n",
       "  <thead>\n",
       "    <tr style=\"text-align: right;\">\n",
       "      <th></th>\n",
       "      <th>counts</th>\n",
       "      <th>div</th>\n",
       "      <th>activity</th>\n",
       "    </tr>\n",
       "  </thead>\n",
       "  <tbody>\n",
       "    <tr>\n",
       "      <th>97.105.19.58</th>\n",
       "      <td>10912.0</td>\n",
       "      <td>257736.0</td>\n",
       "      <td>0.042338</td>\n",
       "    </tr>\n",
       "    <tr>\n",
       "      <th>97.105.19.61</th>\n",
       "      <td>2875.0</td>\n",
       "      <td>57655.0</td>\n",
       "      <td>0.049866</td>\n",
       "    </tr>\n",
       "    <tr>\n",
       "      <th>71.150.217.33</th>\n",
       "      <td>448.0</td>\n",
       "      <td>6342.0</td>\n",
       "      <td>0.070640</td>\n",
       "    </tr>\n",
       "    <tr>\n",
       "      <th>192.171.117.210</th>\n",
       "      <td>446.0</td>\n",
       "      <td>8678.0</td>\n",
       "      <td>0.051394</td>\n",
       "    </tr>\n",
       "    <tr>\n",
       "      <th>76.185.145.231</th>\n",
       "      <td>407.0</td>\n",
       "      <td>4347.0</td>\n",
       "      <td>0.093628</td>\n",
       "    </tr>\n",
       "    <tr>\n",
       "      <th>...</th>\n",
       "      <td>...</td>\n",
       "      <td>...</td>\n",
       "      <td>...</td>\n",
       "    </tr>\n",
       "    <tr>\n",
       "      <th>99.52.78.67</th>\n",
       "      <td>1.0</td>\n",
       "      <td>7.0</td>\n",
       "      <td>0.142857</td>\n",
       "    </tr>\n",
       "    <tr>\n",
       "      <th>99.57.20.163</th>\n",
       "      <td>1.0</td>\n",
       "      <td>2.0</td>\n",
       "      <td>0.500000</td>\n",
       "    </tr>\n",
       "    <tr>\n",
       "      <th>99.62.48.254</th>\n",
       "      <td>1.0</td>\n",
       "      <td>110.0</td>\n",
       "      <td>0.009091</td>\n",
       "    </tr>\n",
       "    <tr>\n",
       "      <th>99.66.104.96</th>\n",
       "      <td>1.0</td>\n",
       "      <td>2.0</td>\n",
       "      <td>0.500000</td>\n",
       "    </tr>\n",
       "    <tr>\n",
       "      <th>99.97.208.154</th>\n",
       "      <td>1.0</td>\n",
       "      <td>15.0</td>\n",
       "      <td>0.066667</td>\n",
       "    </tr>\n",
       "  </tbody>\n",
       "</table>\n",
       "<p>2895 rows × 3 columns</p>\n",
       "</div>"
      ],
      "text/plain": [
       "                  counts       div  activity\n",
       "97.105.19.58     10912.0  257736.0  0.042338\n",
       "97.105.19.61      2875.0   57655.0  0.049866\n",
       "71.150.217.33      448.0    6342.0  0.070640\n",
       "192.171.117.210    446.0    8678.0  0.051394\n",
       "76.185.145.231     407.0    4347.0  0.093628\n",
       "...                  ...       ...       ...\n",
       "99.52.78.67          1.0       7.0  0.142857\n",
       "99.57.20.163         1.0       2.0  0.500000\n",
       "99.62.48.254         1.0     110.0  0.009091\n",
       "99.66.104.96         1.0       2.0  0.500000\n",
       "99.97.208.154        1.0      15.0  0.066667\n",
       "\n",
       "[2895 rows x 3 columns]"
      ]
     },
     "execution_count": 30,
     "metadata": {},
     "output_type": "execute_result"
    }
   ],
   "source": [
    "#found some nulls, lets drop those real quick, and move on\n",
    "q3_all = q3_all.dropna()\n",
    "q3_all"
   ]
  },
  {
   "cell_type": "code",
   "execution_count": 31,
   "id": "3b1ae2af",
   "metadata": {},
   "outputs": [
    {
     "data": {
      "text/html": [
       "<div>\n",
       "<style scoped>\n",
       "    .dataframe tbody tr th:only-of-type {\n",
       "        vertical-align: middle;\n",
       "    }\n",
       "\n",
       "    .dataframe tbody tr th {\n",
       "        vertical-align: top;\n",
       "    }\n",
       "\n",
       "    .dataframe thead th {\n",
       "        text-align: right;\n",
       "    }\n",
       "</style>\n",
       "<table border=\"1\" class=\"dataframe\">\n",
       "  <thead>\n",
       "    <tr style=\"text-align: right;\">\n",
       "      <th></th>\n",
       "      <th>counts</th>\n",
       "      <th>div</th>\n",
       "      <th>activity</th>\n",
       "    </tr>\n",
       "  </thead>\n",
       "  <tbody>\n",
       "    <tr>\n",
       "      <th>108.78.170.79</th>\n",
       "      <td>22.0</td>\n",
       "      <td>18.0</td>\n",
       "      <td>1.222222</td>\n",
       "    </tr>\n",
       "    <tr>\n",
       "      <th>24.26.254.147</th>\n",
       "      <td>132.0</td>\n",
       "      <td>148.0</td>\n",
       "      <td>0.891892</td>\n",
       "    </tr>\n",
       "    <tr>\n",
       "      <th>67.11.56.165</th>\n",
       "      <td>37.0</td>\n",
       "      <td>65.0</td>\n",
       "      <td>0.569231</td>\n",
       "    </tr>\n",
       "    <tr>\n",
       "      <th>70.123.227.169</th>\n",
       "      <td>29.0</td>\n",
       "      <td>62.0</td>\n",
       "      <td>0.467742</td>\n",
       "    </tr>\n",
       "    <tr>\n",
       "      <th>136.50.3.247</th>\n",
       "      <td>131.0</td>\n",
       "      <td>405.0</td>\n",
       "      <td>0.323457</td>\n",
       "    </tr>\n",
       "    <tr>\n",
       "      <th>...</th>\n",
       "      <td>...</td>\n",
       "      <td>...</td>\n",
       "      <td>...</td>\n",
       "    </tr>\n",
       "    <tr>\n",
       "      <th>172.124.67.93</th>\n",
       "      <td>58.0</td>\n",
       "      <td>3453.0</td>\n",
       "      <td>0.016797</td>\n",
       "    </tr>\n",
       "    <tr>\n",
       "      <th>47.187.240.67</th>\n",
       "      <td>23.0</td>\n",
       "      <td>1448.0</td>\n",
       "      <td>0.015884</td>\n",
       "    </tr>\n",
       "    <tr>\n",
       "      <th>24.243.67.104</th>\n",
       "      <td>38.0</td>\n",
       "      <td>3194.0</td>\n",
       "      <td>0.011897</td>\n",
       "    </tr>\n",
       "    <tr>\n",
       "      <th>72.179.164.139</th>\n",
       "      <td>27.0</td>\n",
       "      <td>2402.0</td>\n",
       "      <td>0.011241</td>\n",
       "    </tr>\n",
       "    <tr>\n",
       "      <th>70.121.183.95</th>\n",
       "      <td>30.0</td>\n",
       "      <td>3813.0</td>\n",
       "      <td>0.007868</td>\n",
       "    </tr>\n",
       "  </tbody>\n",
       "</table>\n",
       "<p>354 rows × 3 columns</p>\n",
       "</div>"
      ],
      "text/plain": [
       "                counts     div  activity\n",
       "108.78.170.79     22.0    18.0  1.222222\n",
       "24.26.254.147    132.0   148.0  0.891892\n",
       "67.11.56.165      37.0    65.0  0.569231\n",
       "70.123.227.169    29.0    62.0  0.467742\n",
       "136.50.3.247     131.0   405.0  0.323457\n",
       "...                ...     ...       ...\n",
       "172.124.67.93     58.0  3453.0  0.016797\n",
       "47.187.240.67     23.0  1448.0  0.015884\n",
       "24.243.67.104     38.0  3194.0  0.011897\n",
       "72.179.164.139    27.0  2402.0  0.011241\n",
       "70.121.183.95     30.0  3813.0  0.007868\n",
       "\n",
       "[354 rows x 3 columns]"
      ]
     },
     "execution_count": 31,
     "metadata": {},
     "output_type": "execute_result"
    }
   ],
   "source": [
    "#Any IP with login count ('/') less than 20 is hypothesized to be suspicious, based off domain knowledge\n",
    "q3_all = q3_all[q3_all['counts'] > 20]\n",
    "\n",
    "#Only looking at the top 10 activity ratios for students \n",
    "q3_all['activity'].head(10)\n",
    "\n",
    "#sort the values descending from max activity counts to see top performers \n",
    "q3_all = q3_all.sort_values(by='activity', ascending=False)\n",
    "q3_all"
   ]
  },
  {
   "cell_type": "code",
   "execution_count": 32,
   "id": "b5c11e76",
   "metadata": {},
   "outputs": [
    {
     "data": {
      "text/plain": [
       "<AxesSubplot:>"
      ]
     },
     "execution_count": 32,
     "metadata": {},
     "output_type": "execute_result"
    },
    {
     "data": {
      "image/png": "[encoded data removed]",
      "text/plain": [
       "<Figure size 432x288 with 1 Axes>"
      ]
     },
     "metadata": {
      "needs_background": "light"
     },
     "output_type": "display_data"
    }
   ],
   "source": [
    "#visualize the activity ratios for students accessing and lack of curriculum use\n",
    "q3_all['activity'].head(10).plot.bar()"
   ]
  },
  {
   "cell_type": "markdown",
   "id": "551f7c36",
   "metadata": {},
   "source": [
    "### Takeaways:\n",
    "- The Student identified with an ending IP address of .79 is possibly logging in to the Codeup curriculum but not really accessing the lessons as extensively as expected. This could be due to nefarious intentions such as web-escaping or may have desktop search engine set to constantly refresh which could be causing this strange activity ratio.\n",
    "- With more time it would be fitting to dive deeper into the timestamps associated with this students activity. This may provide evidence of why the student is logging on more than actually accessing the Codeup curriculum."
   ]
  },
  {
   "cell_type": "markdown",
   "id": "eedaed4e",
   "metadata": {},
   "source": [
    "### Question 4:  What topics are grads continuing to reference after graduation and into their jobs (for each program)?"
   ]
  },
  {
   "cell_type": "markdown",
   "id": "4b351bb4",
   "metadata": {},
   "source": [
    "#### Plan:\n",
    "- Filter currciulum_log data to just activity logged after students' assigned graduation dates (end_date),\n",
    "- Perform groupby on lesson (path) and program for grouping analysis."
   ]
  },
  {
   "cell_type": "code",
   "execution_count": 34,
   "id": "66f1164d",
   "metadata": {},
   "outputs": [
    {
     "data": {
      "text/plain": [
       "program_id  path                                          \n",
       "ds          search/search_index.json                          493\n",
       "            sql/mysql-overview                                275\n",
       "            classification/overview                           266\n",
       "            classification/scale_features_or_not.svg          219\n",
       "            anomaly-detection/AnomalyDetectionCartoon.jpeg    193\n",
       "                                                             ... \n",
       "php         students                                            1\n",
       "            students/468/notes                                  1\n",
       "            students/units/75/sub_units/268                     1\n",
       "            teams/13                                            1\n",
       "            uploads/58a217a705bde.jpg                           1\n",
       "Name: path, Length: 2799, dtype: int64"
      ]
     },
     "execution_count": 34,
     "metadata": {},
     "output_type": "execute_result"
    }
   ],
   "source": [
    "#make a copy of the q1_df that filters out path logs with just ('/') indicating not active in lessons\n",
    "after_grad_df = q1_df.copy() \n",
    "\n",
    "#only look at lesson access in path column for students that have graduated\n",
    "after_grad_df = after_grad_df[after_grad_df['date'] > after_grad_df['end_date']]\n",
    "\n",
    "#Check out the activity of lesson activity for programs\n",
    "q4_grouping = after_grad_df.groupby('program_id')['path'].value_counts()\n",
    "q4_grouping"
   ]
  },
  {
   "cell_type": "code",
   "execution_count": 35,
   "id": "35448a32",
   "metadata": {},
   "outputs": [],
   "source": [
    "#rename second path col that populates to 'counts'\n",
    "q4_grouping = q4_grouping.rename('counts')\n",
    "\n",
    "#reset the index \n",
    "q4_grouping = q4_grouping.reset_index()"
   ]
  },
  {
   "cell_type": "code",
   "execution_count": 37,
   "id": "a6b98ceb",
   "metadata": {},
   "outputs": [
    {
     "data": {
      "text/plain": [
       "{'ds':                          program_id  counts\n",
       " path                                       \n",
       " search/search_index.json         ds     493\n",
       " sql/mysql-overview               ds     275\n",
       " classification/overview          ds     266,\n",
       " 'fe':                                             program_id  counts\n",
       " path                                                          \n",
       " content/html-css                                    fe       2\n",
       " content/html-css/gitbook/images/favicon.ico         fe       1\n",
       " content/html-css/introduction.html                  fe       1,\n",
       " 'java':                          program_id  counts\n",
       " path                                       \n",
       " javascript-i                   java    4229\n",
       " spring                         java    3760\n",
       " search/search_index.json       java    3562,\n",
       " 'php':              program_id  counts\n",
       " path                           \n",
       " index.html          php    1011\n",
       " javascript-i        php     736\n",
       " html-css            php     542}"
      ]
     },
     "execution_count": 37,
     "metadata": {},
     "output_type": "execute_result"
    }
   ],
   "source": [
    "#using a little dictionary comprehension to assign date to the four program_ids for this data\n",
    "keys = list(q4_grouping['program_id'].unique())\n",
    "\n",
    "#assigning activity for students within each program to the counts of lesson activity post graduation\n",
    "df_split = {key: q4_grouping[q4_grouping['program_id'] == key].sort_values(by= 'counts', ascending=False).head(3).set_index('path') for key in keys}\n",
    "df_split\n"
   ]
  },
  {
   "cell_type": "code",
   "execution_count": 38,
   "id": "0e4a992f",
   "metadata": {},
   "outputs": [
    {
     "data": {
      "image/png": "[encoded data removed]",
      "text/plain": [
       "<Figure size 432x288 with 1 Axes>"
      ]
     },
     "metadata": {
      "needs_background": "light"
     },
     "output_type": "display_data"
    },
    {
     "data": {
      "image/png": "[encoded data removed]",
      "text/plain": [
       "<Figure size 432x288 with 1 Axes>"
      ]
     },
     "metadata": {
      "needs_background": "light"
     },
     "output_type": "display_data"
    },
    {
     "data": {
      "image/png": "[encoded data removed]",
      "text/plain": [
       "<Figure size 432x288 with 1 Axes>"
      ]
     },
     "metadata": {
      "needs_background": "light"
     },
     "output_type": "display_data"
    },
    {
     "data": {
      "image/png": "[encoded data removed]",
      "text/plain": [
       "<Figure size 432x288 with 1 Axes>"
      ]
     },
     "metadata": {
      "needs_background": "light"
     },
     "output_type": "display_data"
    }
   ],
   "source": [
    "#Let's visualize a more informative picture..\n",
    "\n",
    "for program, df in df_split.items():\n",
    "    df.plot.bar(title=program)\n",
    "    plt.legend()\n",
    "    plt.show()\n",
    "    plt.close()"
   ]
  },
  {
   "cell_type": "markdown",
   "id": "381032b5",
   "metadata": {},
   "source": [
    "### Takeaways:\n",
    "- The Data Science program is accessing the search_index path quite extensively post graduation. As aforementioned, this could be potentially attributed to web-scraping activity.\n",
    "- The Front End program graduates are accessing the content/htm-css lesson extensively more than any other lesson following their term with Codeup.\n",
    "- The Java Program is referring back to the javascript-i lesson the most post gradation.\n",
    "- The PHP Full Stack program refers back most to the index.html lesson quite extensiviely after Codeup. \n",
    "- Again, with more time looking at these consistent reoccurences for potential webscaping, would be provide more confidence in these conclusions."
   ]
  },
  {
   "cell_type": "markdown",
   "id": "dce4381f",
   "metadata": {},
   "source": [
    "### Question 5: Which lessons are least accessed?"
   ]
  },
  {
   "cell_type": "markdown",
   "id": "eab3f13a",
   "metadata": {},
   "source": [
    "#### Plan:\n",
    "- Perform the same steps as listed above for question 4, but instead look at the minimum occurrence of lesson activity within the path column."
   ]
  },
  {
   "cell_type": "code",
   "execution_count": 39,
   "id": "4d6f4590",
   "metadata": {},
   "outputs": [
    {
     "data": {
      "text/plain": [
       "program_id  path                                          \n",
       "ds          search/search_index.json                          493\n",
       "            sql/mysql-overview                                275\n",
       "            classification/overview                           266\n",
       "            classification/scale_features_or_not.svg          219\n",
       "            anomaly-detection/AnomalyDetectionCartoon.jpeg    193\n",
       "                                                             ... \n",
       "php         students                                            1\n",
       "            students/468/notes                                  1\n",
       "            students/units/75/sub_units/268                     1\n",
       "            teams/13                                            1\n",
       "            uploads/58a217a705bde.jpg                           1\n",
       "Name: counts, Length: 2799, dtype: int64"
      ]
     },
     "execution_count": 39,
     "metadata": {},
     "output_type": "execute_result"
    }
   ],
   "source": [
    "#new variable using df for just post grad lesson activity\n",
    "q5_grouping = after_grad_df.groupby('program_id')['path'].value_counts()\n",
    "\n",
    "#Renaming the second path column again to counts to grouping readibility\n",
    "q5_grouping = q5_grouping.rename('counts')\n",
    "q5_grouping"
   ]
  },
  {
   "cell_type": "code",
   "execution_count": 40,
   "id": "f86acbe3",
   "metadata": {},
   "outputs": [],
   "source": [
    "#reset the index \n",
    "q5_grouping = q5_grouping.reset_index()"
   ]
  },
  {
   "cell_type": "code",
   "execution_count": 41,
   "id": "9c83401d",
   "metadata": {},
   "outputs": [],
   "source": [
    "#using a little dictionary comprehension to assign date to the four program_ids for this data\n",
    "keys = list(q5_grouping['program_id'].unique())\n",
    "\n",
    "#assigning activity for students within each program to the counts of lesson activity post graduation\n",
    "df_split = {key: q5_grouping[q5_grouping['program_id'] == key].sort_values(by= 'counts', ascending=False).tail(3).set_index('path') for key in keys}\n"
   ]
  },
  {
   "cell_type": "code",
   "execution_count": 42,
   "id": "a655f9c1",
   "metadata": {},
   "outputs": [
    {
     "data": {
      "image/png": "[encoded data removed]",
      "text/plain": [
       "<Figure size 432x288 with 1 Axes>"
      ]
     },
     "metadata": {
      "needs_background": "light"
     },
     "output_type": "display_data"
    },
    {
     "data": {
      "image/png": "[encoded data removed]",
      "text/plain": [
       "<Figure size 432x288 with 1 Axes>"
      ]
     },
     "metadata": {
      "needs_background": "light"
     },
     "output_type": "display_data"
    },
    {
     "data": {
      "image/png": "[encoded data removed]",
      "text/plain": [
       "<Figure size 432x288 with 1 Axes>"
      ]
     },
     "metadata": {
      "needs_background": "light"
     },
     "output_type": "display_data"
    },
    {
     "data": {
      "image/png": "[encoded data removed]",
      "text/plain": [
       "<Figure size 432x288 with 1 Axes>"
      ]
     },
     "metadata": {
      "needs_background": "light"
     },
     "output_type": "display_data"
    }
   ],
   "source": [
    "#Let's visualize a more informative picture..\n",
    "for program, df in df_split.items():\n",
    "    df.plot.bar(title=program)\n",
    "    plt.legend()\n",
    "    plt.show()\n",
    "    plt.close()"
   ]
  },
  {
   "cell_type": "markdown",
   "id": "11633d42",
   "metadata": {},
   "source": [
    "### Takeaways: Least Visited Lesson Post Graduation\n",
    "- Data Science Program: acquire/prepare, advanced-topics, and viz.py\n",
    "- Front End Program: content/html-css, content/html-css... (see above viz), and content/html-css..introduction.html\n",
    "- Java Program: SVM/nlp, Regression%20.., and wp-login\n",
    "- PHP Full Stack Program: 8.0_Intro_Module, 6-regression/1-overview, and upload/58a217a705bde.jpg"
   ]
  },
  {
   "cell_type": "markdown",
   "id": "d3f18fb1",
   "metadata": {},
   "source": [
    "## Final Conclusions and Recommendations:\n",
    "- There was quite a bit of domain knowledge that should be further researched to solidfy initial conclusions and takeaways established in this project.\n",
    "- Theories regarding web-scraping activity providing through path instance of '.html,.json,etc' should be visited with further exploration into pattern of life exploration. I would look further into timestamp and date activity for these relevant IP addresses and draw further conclusions.\n",
    "- Each question answered provided a basis for a deeper dive into IP addresses that provided some anomalistic behavior."
   ]
  }
 ],
 "metadata": {
  "kernelspec": {
   "display_name": "Python 3",
   "language": "python",
   "name": "python3"
  },
  "language_info": {
   "codemirror_mode": {
    "name": "ipython",
    "version": 3
   },
   "file_extension": ".py",
   "mimetype": "text/x-python",
   "name": "python",
   "nbconvert_exporter": "python",
   "pygments_lexer": "ipython3",
   "version": "3.8.8"
  }
 },
 "nbformat": 4,
 "nbformat_minor": 5
}
